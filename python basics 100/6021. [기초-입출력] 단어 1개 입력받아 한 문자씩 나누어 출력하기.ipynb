{
 "cells": [
  {
   "cell_type": "markdown",
   "metadata": {},
   "source": [
    "알파벳과 숫자로 이루어진 단어 1개가 입력된다.  \n",
    "입력받은 단어의 각 문자를 한 줄에 한 문자씩 분리해 출력한다.  \n",
    "\n",
    "예시\n",
    "s = input()  \n",
    "print(s[0])  \n",
    "print(s[1])  \n",
    "...\n",
    "\n",
    "  \n",
    "  \n",
    "* 입력 : 5개의 문자로 이루어진 단어 1개가 입력된다. (ex. Hello)\n",
    "* 출력 : 각 문자를 한 줄에 한 문자씩 줄을 바꿔 출력한다."
   ]
  },
  {
   "cell_type": "code",
   "execution_count": 2,
   "metadata": {},
   "outputs": [
    {
     "name": "stdout",
     "output_type": "stream",
     "text": [
      "Hello\n",
      "H\n",
      "e\n",
      "l\n",
      "l\n",
      "o\n"
     ]
    }
   ],
   "source": [
    "s_list = input()\n",
    "for s in s_list:\n",
    "    print(s)"
   ]
  }
 ],
 "metadata": {
  "kernelspec": {
   "display_name": "Python 3",
   "language": "python",
   "name": "python3"
  },
  "language_info": {
   "codemirror_mode": {
    "name": "ipython",
    "version": 3
   },
   "file_extension": ".py",
   "mimetype": "text/x-python",
   "name": "python",
   "nbconvert_exporter": "python",
   "pygments_lexer": "ipython3",
   "version": "3.8.5"
  }
 },
 "nbformat": 4,
 "nbformat_minor": 4
}
