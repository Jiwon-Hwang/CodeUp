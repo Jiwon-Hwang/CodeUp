{
 "cells": [
  {
   "cell_type": "markdown",
   "metadata": {},
   "source": [
    "10진수를 입력받아 16진수(hexadecimal)로 출력해보자.  \n",
    "\n",
    "예시  \n",
    "a = input()  \n",
    "n = int(a)            #입력된 a를 10진수 값으로 변환해 변수 n에 저장  \n",
    "print('%x'% n)  #n에 저장되어있는 값을 16진수(hexadecimal) 소문자 형태 문자열로 출력  \n",
    "  \n",
    "참고  \n",
    "10진수 형태로 입력받고  \n",
    "%x로 출력하면 16진수(hexadecimal) 소문자로 출력된다.  \n",
    "(%o로 출력하면 8진수(octal) 문자열로 출력된다.)  \n",
    "  \n",
    "10진법은 한 자리에 10개(0 1 2 3 4 5 6 7 8 9)의 문자를 사용하고,  \n",
    "16진법은 영문 소문자를 사용하는 경우에 한 자리에 16개(0 1 2 3 4 5 6 7 8 9 a b c d e f)의 문자를 사용한다.  \n",
    "16진수 a는 10진수의 10, b는 11, c는 12 ... 와 같다.  \n",
    "  \n",
    "  \n",
    "    \n",
    "* 입력 : 10진수 1개가 입력된다. (ex. 255)  \n",
    "* 출력 : 16진수(소문자) 형태로 출력한다. (ex. ff)"
   ]
  },
  {
   "cell_type": "code",
   "execution_count": 14,
   "metadata": {},
   "outputs": [
    {
     "name": "stdout",
     "output_type": "stream",
     "text": [
      "255\n",
      "ff\n",
      "FF\n",
      "0xff\n"
     ]
    }
   ],
   "source": [
    "a = input()\n",
    "n = int(a) # 10진수로 변환\n",
    "print(\"%x\" % n) # 16진수(hex) 소문자로 출력!\n",
    "print(\"%X\" % n) # 16진수(hex) 대문자로 출력!\n",
    "print(hex(n)) # 16진수 형태의 '문자열'로 변환. 접두어 포함"
   ]
  },
  {
   "cell_type": "markdown",
   "metadata": {},
   "source": [
    "### format 함수의 2가지 형태"
   ]
  },
  {
   "cell_type": "code",
   "execution_count": 13,
   "metadata": {},
   "outputs": [
    {
     "name": "stdout",
     "output_type": "stream",
     "text": [
      "ff\n",
      "0xff\n",
      "format : 255, ff\n"
     ]
    }
   ],
   "source": [
    "print(format(n, 'x')) # 16진수 문자열로 출력 (접두어 제외)\n",
    "print(format(n, '#x')) # 16진수 문자열로 출력 (접두어 포함)\n",
    "print('format : {}, {}'.format(n, format(n, 'x'))) # 문자열 포멧팅"
   ]
  }
 ],
 "metadata": {
  "kernelspec": {
   "display_name": "Python 3",
   "language": "python",
   "name": "python3"
  },
  "language_info": {
   "codemirror_mode": {
    "name": "ipython",
    "version": 3
   },
   "file_extension": ".py",
   "mimetype": "text/x-python",
   "name": "python",
   "nbconvert_exporter": "python",
   "pygments_lexer": "ipython3",
   "version": "3.8.5"
  }
 },
 "nbformat": 4,
 "nbformat_minor": 4
}
