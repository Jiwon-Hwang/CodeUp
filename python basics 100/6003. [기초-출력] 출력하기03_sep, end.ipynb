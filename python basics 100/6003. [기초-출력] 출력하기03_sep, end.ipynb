{
 "cells": [
  {
   "cell_type": "markdown",
   "metadata": {},
   "source": [
    "이번에는 줄을 바꿔 출력하는 출력문을 연습해보자.\n",
    "다음과 같이 줄을 바꿔 출력해야 한다.\n",
    "\n",
    "Hello\n",
    "World\n",
    "(두 줄에 걸쳐 줄을 바꿔 출력)\n",
    "\n",
    "예시 \n",
    "print(\"Hello\") \n",
    "print(\"World\")\n",
    "\n",
    "참고\n",
    "python의 기본 print( ) 를 이용해 출력하면 문장을 출력한 후 마지막에 줄을 바꾼다.(new line)\n",
    "출력 후 줄을 바꾸는 대신 스페이스( ) 공백을 붙이도록 설정하는 방법도 있다."
   ]
  },
  {
   "cell_type": "code",
   "execution_count": 2,
   "metadata": {},
   "outputs": [
    {
     "name": "stdout",
     "output_type": "stream",
     "text": [
      "Hello\n",
      "World\n"
     ]
    }
   ],
   "source": [
    "# sol1\n",
    "print(\"Hello\", \"World\", sep = \"\\n\") # sep : print()내의 출력문들 사이에 해당 문자열을 넣어 출력 (separator)"
   ]
  },
  {
   "cell_type": "code",
   "execution_count": 3,
   "metadata": {},
   "outputs": [
    {
     "name": "stdout",
     "output_type": "stream",
     "text": [
      "Hello\n",
      "World\n"
     ]
    }
   ],
   "source": [
    "# sol2\n",
    "print(\"Hello\\nWorld\")"
   ]
  },
  {
   "cell_type": "code",
   "execution_count": 5,
   "metadata": {},
   "outputs": [
    {
     "name": "stdout",
     "output_type": "stream",
     "text": [
      "Hello World\n",
      "Hello World\n",
      "HelloWorld\n",
      "Hello WorldHello World\n"
     ]
    }
   ],
   "source": [
    "# 오답\n",
    "print(\"Hello\", \"World\", end=\"\\n\") # end : print()내의 출력문들을 모두 출력 후 끝에 해당 문자열로 끝냄\n",
    "print(\"Hello\", \"World\") # 기본적으로 \" \" 공백문자 기준으로 separate\n",
    "print(\"Hello\", \"World\", sep=\"\") # 공백 없이 붙여서 출력\n",
    "print(\"Hello\", \"World\", end=\"\") # 다음 print() 문은 이번 출력문 바로 뒤에 이어서 출력\n",
    "print(\"Hello World\")"
   ]
  }
 ],
 "metadata": {
  "kernelspec": {
   "display_name": "Python 3",
   "language": "python",
   "name": "python3"
  },
  "language_info": {
   "codemirror_mode": {
    "name": "ipython",
    "version": 3
   },
   "file_extension": ".py",
   "mimetype": "text/x-python",
   "name": "python",
   "nbconvert_exporter": "python",
   "pygments_lexer": "ipython3",
   "version": "3.8.5"
  }
 },
 "nbformat": 4,
 "nbformat_minor": 4
}
