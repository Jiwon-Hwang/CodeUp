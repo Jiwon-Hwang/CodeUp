{
 "cells": [
  {
   "cell_type": "markdown",
   "metadata": {},
   "source": [
    "실수 1개를 입력받아\n",
    "소숫점 이하 두 번째 자리까지의 정확도로 반올림한 값을 출력해보자.  \n",
    "\n",
    "   \n",
    "예시  \n",
    "  \n",
    "a=float(input())  \n",
    "print( format(a, \".2f\") )  \n",
    "\n",
    "   \n",
    "참고  \n",
    "format(수, \".2f\") 를 사용하면 원하는 자리까지의 정확도로 반올림 된 실수 값을 만들어 준다.   \n",
    "  \n",
    "여기서 만들어진 값은 소수점 아래 3번째 자리에서 반올림한 값이다.  \n",
    "  \n",
    "컴퓨터 프로그래밍에서 실수 변환이나 실수를 사용하는 계산은  \n",
    "정확하게 변환되거나 계산되는 것이 아니라, 거의 모두 근사값으로 계산되는 것이라고 할 수 있다.   \n",
    "  \n",
    "실수가 컴퓨터로 저장되기 위해서는 디지털방식으로 2진 정수화되어 저장되어야 하는데,  \n",
    "그 과정에서 아주 작은 부분이 저장되지 않고 사라지는 잘림(truncation) 오차가 자주 발생하기 때문이다.  \n",
    "  \n",
    "    \n",
    "    \n",
    "* 입력 : 실수 1개가 입력된다. (ex. 3.141592)  \n",
    "* 출력 : 소숫점 이하 두 번째 자리까지의 정확도로 반올림한 값을 출력한다. (ex. 3.14)"
   ]
  },
  {
   "cell_type": "code",
   "execution_count": 1,
   "metadata": {},
   "outputs": [
    {
     "name": "stdout",
     "output_type": "stream",
     "text": [
      "3.141592\n",
      "3.14\n",
      "3.1416\n"
     ]
    }
   ],
   "source": [
    "a = float(input())\n",
    "print(format(a, '.2f')) # 소수점 아래 2자리까지 (3번째 자리에서 반올림)\n",
    "print(format(a, '.4f')) # 소수점 아래 4자리까지 (5번째 자리에서 반올림)"
   ]
  },
  {
   "cell_type": "markdown",
   "metadata": {},
   "source": [
    "### 문자열 포매팅 (format(), %d, %f)\n",
    "* %f 디폴트 : 소수부 6자리까지\n",
    "* d, .f 앞의 수 : 원하는 자리수 \n",
    "> ex. 7.2f : 총 7자리, 소수부만 2자리 (자리수 남을 경우, 공백으로 처리)"
   ]
  },
  {
   "cell_type": "code",
   "execution_count": 9,
   "metadata": {},
   "outputs": [
    {
     "name": "stdout",
     "output_type": "stream",
     "text": [
      "3.1416\n",
      "3.1416\n",
      " 3.1416\n"
     ]
    }
   ],
   "source": [
    "print(format(3.1415926535, '.4f')) \n",
    "print('%.4f' % 3.1415926535)\n",
    "print('{:7.4f}'.format(3.1415926535)) # 전체 7자리 (정수부 + 소수부)"
   ]
  },
  {
   "cell_type": "code",
   "execution_count": 14,
   "metadata": {},
   "outputs": [
    {
     "name": "stdout",
     "output_type": "stream",
     "text": [
      "  1234567\n",
      "  1234567\n",
      "   1234567\n"
     ]
    }
   ],
   "source": [
    "print(format(1234567, '9d')) # 전체 9자리 (앞에 공백 2자리)\n",
    "print('%9d' % 1234567)\n",
    "print('{:10d}'.format(1234567))"
   ]
  }
 ],
 "metadata": {
  "kernelspec": {
   "display_name": "Python 3",
   "language": "python",
   "name": "python3"
  },
  "language_info": {
   "codemirror_mode": {
    "name": "ipython",
    "version": 3
   },
   "file_extension": ".py",
   "mimetype": "text/x-python",
   "name": "python",
   "nbconvert_exporter": "python",
   "pygments_lexer": "ipython3",
   "version": "3.8.5"
  }
 },
 "nbformat": 4,
 "nbformat_minor": 4
}
