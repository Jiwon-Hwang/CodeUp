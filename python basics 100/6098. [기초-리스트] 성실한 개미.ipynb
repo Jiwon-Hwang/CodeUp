{
 "cells": [
  {
   "cell_type": "markdown",
   "metadata": {},
   "source": [
    "영일이는 생명과학에 관심이 생겨 왕개미를 연구하고 있었다.  \n",
    "  \n",
    "왕개미를 유심히 살펴보던 중 특별히 성실해 보이는 개미가 있었는데,\n",
    "그 개미는 개미굴에서 나와 먹이까지 가장 빠른 길로 이동하는 것이었다.  \n",
    "  \n",
    "개미는 오른쪽으로 움직이다가 벽을 만나면 아래쪽으로 움직여 가장 빠른 길로 움직였다.  \n",
    "(오른쪽에 길이 나타나면 다시 오른쪽으로 움직인다.)  \n",
    "\n",
    "이에 호기심이 생긴 영일이는 그 개미를 미로 상자에 넣고 살펴보기 시작하였다.  \n",
    "  \n",
    "미로 상자에 넣은 개미는 먹이를 찾았거나, 더 이상 움직일 수 없을 때까지\n",
    "오른쪽 또는 아래쪽으로만 움직였다.  \n",
    "  \n",
    "미로 상자의 구조가 0(갈 수 있는 곳), 1(벽 또는 장애물)로 주어지고,\n",
    "먹이가 2로 주어질 때, 성실한 개미의 이동 경로를 예상해보자.  \n",
    "  \n",
    "단, 맨 아래의 가장 오른쪽에 도착한 경우, 더 이상 움직일 수 없는 경우, 먹이를 찾은 경우에는 더이상 이동하지 않고 그 곳에 머무른다고 가정한다.  \n",
    "  \n",
    "미로 상자의 테두리는 모두 벽으로 되어 있으며,  \n",
    "개미집은 반드시 (2, 2)에 존재하기 때문에 개미는 (2, 2)에서 출발한다.  \n",
    "  \n",
    "  \n",
    "* 입력 : 10 * 10 크기의 미로 상자의 구조와 먹이의 위치가 입력된다.  \n",
    "    \n",
    "      \n",
    "* 출력 : 성실한 개미가 이동한 경로를 9로 표시해 출력한다."
   ]
  },
  {
   "cell_type": "code",
   "execution_count": 6,
   "metadata": {},
   "outputs": [
    {
     "name": "stdout",
     "output_type": "stream",
     "text": [
      "1 1 1 1 1 1 1 1 1 1\n",
      "1 0 0 1 0 0 0 0 0 1\n",
      "1 0 0 1 1 1 0 0 0 1\n",
      "1 0 0 0 0 0 0 1 0 1\n",
      "1 0 0 0 0 0 0 1 0 1\n",
      "1 0 0 0 0 1 0 0 0 1\n",
      "1 0 0 0 0 1 2 0 0 1\n",
      "1 0 0 0 0 1 0 0 0 1\n",
      "1 0 0 0 0 0 0 0 0 1\n",
      "1 1 1 1 1 1 1 1 1 1\n",
      "1 1 1 1 1 1 1 1 1 1 \n",
      "1 9 9 1 0 0 0 0 0 1 \n",
      "1 0 9 1 1 1 0 0 0 1 \n",
      "1 0 9 9 9 9 9 1 0 1 \n",
      "1 0 0 0 0 0 9 1 0 1 \n",
      "1 0 0 0 0 1 9 9 9 1 \n",
      "1 0 0 0 0 1 2 0 9 1 \n",
      "1 0 0 0 0 1 0 0 9 1 \n",
      "1 0 0 0 0 0 0 0 9 1 \n",
      "1 1 1 1 1 1 1 1 1 1 \n"
     ]
    }
   ],
   "source": [
    "# sol\n",
    "\n",
    "# 미로 상자 입력\n",
    "miro = [list(map(int, input().split())) for i in range(10)]\n",
    "\n",
    "# 개미 이동\n",
    "x, y = 1, 1\n",
    "while True:\n",
    "    miro[x][y] = 9\n",
    "    r = miro[x][y+1] # 오른쪽\n",
    "    d = miro[x+1][y] # 아래쪽\n",
    "    \n",
    "    if r == 0: # 오른쪽으로 이동 \n",
    "        y += 1\n",
    "        \n",
    "    elif r == 1: # 아래쪽으로 이동\n",
    "        if d == 1: # 더이상 갈 수 없을 때\n",
    "            break\n",
    "        elif d == 2: # 아래쪽에 먹이\n",
    "            miro[x+1][y] = 9\n",
    "            break\n",
    "        x += 1 \n",
    "        \n",
    "    else: # r == 2 (오른쪽에 먹이)\n",
    "        miro[x][y+1] = 9\n",
    "        break\n",
    "    \n",
    "# 결과 출력\n",
    "for i in range(10):\n",
    "    for j in range(10):\n",
    "        print(miro[i][j], end = ' ')\n",
    "    print()"
   ]
  },
  {
   "cell_type": "code",
   "execution_count": 5,
   "metadata": {},
   "outputs": [
    {
     "name": "stdout",
     "output_type": "stream",
     "text": [
      "1 1 1 1 1 1 1 1 1 1\n",
      "1 0 0 1 0 0 0 0 0 1\n",
      "1 0 0 1 1 1 0 0 0 1\n",
      "1 0 0 0 0 0 0 1 0 1\n",
      "1 0 0 0 0 0 0 1 0 1\n",
      "1 0 0 0 0 1 0 1 0 1\n",
      "1 0 0 0 0 1 2 1 0 1\n",
      "1 0 0 0 0 1 0 0 0 1\n",
      "1 0 0 0 0 0 0 0 0 1\n",
      "1 1 1 1 1 1 1 1 1 1\n",
      "1 1 1 1 1 1 1 1 1 1 \n",
      "1 9 9 1 0 0 0 0 0 1 \n",
      "1 0 9 1 1 1 0 0 0 1 \n",
      "1 0 9 9 9 9 9 1 0 1 \n",
      "1 0 0 0 0 0 9 1 0 1 \n",
      "1 0 0 0 0 1 9 1 0 1 \n",
      "1 0 0 0 0 1 9 1 0 1 \n",
      "1 0 0 0 0 1 0 0 0 1 \n",
      "1 0 0 0 0 0 0 0 0 1 \n",
      "1 1 1 1 1 1 1 1 1 1 \n"
     ]
    }
   ],
   "source": [
    "# 오답 => 위의 test case처럼 먹이(2)거 현재 위치 바로 아래에 있지만 오른쪽으로 가야할 경우!!\n",
    "\n",
    "# 미로 상자 입력\n",
    "miro = [list(map(int, input().split())) for i in range(10)]\n",
    "\n",
    "# 개미 이동\n",
    "x, y = 1, 1\n",
    "while True:\n",
    "    miro[x][y] = 9\n",
    "    r = miro[x][y+1] # 오른쪽\n",
    "    d = miro[x+1][y] # 아래쪽\n",
    "    if r == 1 and d == 1: # 갈 수 없을 때\n",
    "        break    \n",
    "    elif r == 2: # 오른쪽 먹이 발견\n",
    "        miro[x][y+1] = 9\n",
    "        break\n",
    "    elif d == 2: # 아래쪽 먹이 발견 => 이렇게 되면 오른쪽으로 이동해야하는데 안하고 먹이로 가버림\n",
    "        miro[x+1][y] = 9\n",
    "        break\n",
    "    elif r == 0: # 오른쪽으로 이동 \n",
    "        y += 1\n",
    "        continue\n",
    "    x += 1 # 아래쪽으로 이동\n",
    "    \n",
    "# 결과 출력\n",
    "for i in range(10):\n",
    "    for j in range(10):\n",
    "        print(miro[i][j], end = ' ')\n",
    "    print()"
   ]
  }
 ],
 "metadata": {
  "kernelspec": {
   "display_name": "Python 3",
   "language": "python",
   "name": "python3"
  },
  "language_info": {
   "codemirror_mode": {
    "name": "ipython",
    "version": 3
   },
   "file_extension": ".py",
   "mimetype": "text/x-python",
   "name": "python",
   "nbconvert_exporter": "python",
   "pygments_lexer": "ipython3",
   "version": "3.8.5"
  }
 },
 "nbformat": 4,
 "nbformat_minor": 2
}
