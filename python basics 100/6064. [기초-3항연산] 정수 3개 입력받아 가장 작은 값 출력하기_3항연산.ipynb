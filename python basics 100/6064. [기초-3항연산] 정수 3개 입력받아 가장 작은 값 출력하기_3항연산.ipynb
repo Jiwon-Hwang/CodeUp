{
 "cells": [
  {
   "cell_type": "markdown",
   "metadata": {},
   "source": [
    "입력된 세 정수 a, b, c 중 가장 작은 값을 출력하는 프로그램을 작성해보자.  \n",
    "단, 3항 연산을 사용한다.  \n",
    "  \n",
    "    \n",
    "예를 들어  \n",
    "(a if a>b else b) if ((a if a>b else b)>c) else c  \n",
    "와 같은 계산식은 a, b, c 의 값 중 가장 큰 값으로 계산된다.  \n",
    "    \n",
    "* 입력 : 3개의 정수가 공백으로 구분되어 입력된다. (ex. 3 -1 5)  \n",
    "* 출력 : 가장 작은 값을 출력한다. (ex. -1)"
   ]
  },
  {
   "cell_type": "code",
   "execution_count": 6,
   "metadata": {
    "scrolled": true
   },
   "outputs": [
    {
     "name": "stdout",
     "output_type": "stream",
     "text": [
      "10 3 7\n",
      "10\n"
     ]
    }
   ],
   "source": [
    "# 오답! (입력받고 대소비교한 대상이 문자이므로, '10' < '3'의 경우 발생)\n",
    "a, b, c = input().split()\n",
    "ans = (b if a > b else a) if c > (b if a > b else a) else c\n",
    "print(ans) # 숫자 x, 문자 o (즉, 맞게 하려면 입력받고 int형으로 다 map 해주어야 함!)"
   ]
  },
  {
   "cell_type": "code",
   "execution_count": 7,
   "metadata": {},
   "outputs": [
    {
     "name": "stdout",
     "output_type": "stream",
     "text": [
      "10 3 7\n",
      "3\n"
     ]
    }
   ],
   "source": [
    "# sol1\n",
    "a, b, c = map(int, input().split())\n",
    "ans = (b if a > b else a) if c > (b if a > b else a) else c\n",
    "print(ans) "
   ]
  },
  {
   "cell_type": "code",
   "execution_count": 8,
   "metadata": {},
   "outputs": [
    {
     "name": "stdout",
     "output_type": "stream",
     "text": [
      "10 3 7\n",
      "3\n"
     ]
    }
   ],
   "source": [
    "# sol2\n",
    "abc_list = map(int, input().split())\n",
    "print(min(abc_list)) # min() : 파이썬 내장함수 (반복가능한 객체)"
   ]
  }
 ],
 "metadata": {
  "kernelspec": {
   "display_name": "Python 3",
   "language": "python",
   "name": "python3"
  },
  "language_info": {
   "codemirror_mode": {
    "name": "ipython",
    "version": 3
   },
   "file_extension": ".py",
   "mimetype": "text/x-python",
   "name": "python",
   "nbconvert_exporter": "python",
   "pygments_lexer": "ipython3",
   "version": "3.8.5"
  }
 },
 "nbformat": 4,
 "nbformat_minor": 4
}
