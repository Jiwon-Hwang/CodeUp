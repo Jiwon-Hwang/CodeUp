{
 "cells": [
  {
   "cell_type": "markdown",
   "metadata": {},
   "source": [
    "\"연도.월.일\"을 입력받아 \"일-월-연도\" 순서로 바꿔 출력해보자.  \n",
    "\n",
    "참고  \n",
    "y, m, d = input().split('.')  \n",
    "과 같이 변수들을 순서대로 나열하면 구분기호를 기준으로 잘라 순서대로 저장한다.\n",
    "  \n",
    "\n",
    "  \n",
    "* 입력 : 연도, 월, 일이 닷('.')으로 구분되어 입력된다. (ex. 2020.3.4)  \n",
    "* 출력 : 대시(마이너스 기호)를 구분기호로 사용해서 일-월-연도로 바꿔 출력한다. (ex. 4-3-2020)"
   ]
  },
  {
   "cell_type": "code",
   "execution_count": 4,
   "metadata": {},
   "outputs": [
    {
     "name": "stdout",
     "output_type": "stream",
     "text": [
      "2020.3.4\n",
      "4-3-2020\n"
     ]
    }
   ],
   "source": [
    "# sol\n",
    "y, m, d = input().split('.')\n",
    "print(d, m, y, sep='-')"
   ]
  }
 ],
 "metadata": {
  "kernelspec": {
   "display_name": "Python 3",
   "language": "python",
   "name": "python3"
  },
  "language_info": {
   "codemirror_mode": {
    "name": "ipython",
    "version": 3
   },
   "file_extension": ".py",
   "mimetype": "text/x-python",
   "name": "python",
   "nbconvert_exporter": "python",
   "pygments_lexer": "ipython3",
   "version": "3.8.5"
  }
 },
 "nbformat": 4,
 "nbformat_minor": 4
}
