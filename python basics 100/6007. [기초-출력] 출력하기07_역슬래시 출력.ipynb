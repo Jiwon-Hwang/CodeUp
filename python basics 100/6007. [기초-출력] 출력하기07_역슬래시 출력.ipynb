{
 "cells": [
  {
   "cell_type": "markdown",
   "metadata": {},
   "source": [
    "윈도우 운영체제의 파일 경로를 출력하는 연습을 해보자.\n",
    " \n",
    "파일 경로에는 특수문자들이 포함된다.\n",
    "\n",
    "다음 경로를 출력하시오.\n",
    "\n",
    "\"C:\\Download\\\\'hello'.py\"\n",
    "(단, 따옴표도 함께 출력한다.)\n",
    "\n",
    "  \n",
    "\n",
    "`\\`도 안전하게 출력하려면 **`\\\\`** 를 사용하는 것이 좋다.  \n",
    "> **`'`, `\"`, `\\` 출력? => 앞에 `\\(역슬래시)` 붙이기!**"
   ]
  },
  {
   "cell_type": "code",
   "execution_count": 3,
   "metadata": {},
   "outputs": [
    {
     "name": "stdout",
     "output_type": "stream",
     "text": [
      "\"C:\\Download\\'hello'.py\"\n"
     ]
    }
   ],
   "source": [
    "# sol\n",
    "print(\"\\\"C:\\\\Download\\\\'hello\\'.py\\\"\") # \" or ' 출력 => \\\" , \\' (백슬래시(\\) 출력도 마찬가지로 \\\\로 출력 가능)"
   ]
  }
 ],
 "metadata": {
  "kernelspec": {
   "display_name": "Python 3",
   "language": "python",
   "name": "python3"
  },
  "language_info": {
   "codemirror_mode": {
    "name": "ipython",
    "version": 3
   },
   "file_extension": ".py",
   "mimetype": "text/x-python",
   "name": "python",
   "nbconvert_exporter": "python",
   "pygments_lexer": "ipython3",
   "version": "3.8.5"
  }
 },
 "nbformat": 4,
 "nbformat_minor": 4
}
