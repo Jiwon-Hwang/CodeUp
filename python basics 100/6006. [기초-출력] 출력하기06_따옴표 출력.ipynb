{
 "cells": [
  {
   "cell_type": "markdown",
   "metadata": {},
   "source": [
    "다음 특수문장을 출력하시오.\n",
    "\n",
    "\"!@#$%^&*()'\n",
    "(단, 큰따옴표와 작은따옴표도 함께 출력한다.)\n",
    "\n",
    "   \n",
    "  \n",
    "출력 형식에 필요한 따옴표와 출력할 문자인 따옴표를 구분하기 위하여\n",
    "\n",
    "`\\\" `또는 `\\'` 를 이용하여 출력할 수 있다. (**백슬래시 \\ 붙이기**)"
   ]
  },
  {
   "cell_type": "code",
   "execution_count": 1,
   "metadata": {},
   "outputs": [
    {
     "name": "stdout",
     "output_type": "stream",
     "text": [
      "\"!@#$%^&*()'\n"
     ]
    }
   ],
   "source": [
    "# sol\n",
    "print(\"\\\"!@#$%^&*()\\'\") # \" or ' 출력 => \\\" , \\' (백슬래시(\\) 출력도 마찬가지로 \\\\로 출력 가능)"
   ]
  }
 ],
 "metadata": {
  "kernelspec": {
   "display_name": "Python 3",
   "language": "python",
   "name": "python3"
  },
  "language_info": {
   "codemirror_mode": {
    "name": "ipython",
    "version": 3
   },
   "file_extension": ".py",
   "mimetype": "text/x-python",
   "name": "python",
   "nbconvert_exporter": "python",
   "pygments_lexer": "ipython3",
   "version": "3.8.5"
  }
 },
 "nbformat": 4,
 "nbformat_minor": 4
}
