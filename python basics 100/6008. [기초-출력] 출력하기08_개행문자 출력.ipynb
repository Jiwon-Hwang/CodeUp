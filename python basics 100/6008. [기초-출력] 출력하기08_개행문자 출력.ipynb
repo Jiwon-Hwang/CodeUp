{
 "cells": [
  {
   "cell_type": "markdown",
   "metadata": {},
   "source": [
    "print(\"Hello\\nWorld\")\n",
    "  \n",
    "위 코드를 정확히 그대로 출력하시오.(공백문자 주의)\n",
    "  \n",
    " \n",
    "  \n",
    "print 명령 안에 서식 문자로 \\n을 사용하면 줄 바꿈(new line) 문자로 사용된다.\n",
    "  \n",
    "그렇다면 \\n을 화면에 그대로 출력하려면 어떻게 해야될까?"
   ]
  },
  {
   "cell_type": "code",
   "execution_count": 1,
   "metadata": {},
   "outputs": [
    {
     "name": "stdout",
     "output_type": "stream",
     "text": [
      "print(\"Hello\\nWorld\")\n"
     ]
    }
   ],
   "source": [
    "# sol\n",
    "print(\"print(\\\"Hello\\\\nWorld\\\")\") # \\n 출력 : \\\\n으로 역슬래시 출력할 때와 같이 해주면 됨"
   ]
  }
 ],
 "metadata": {
  "kernelspec": {
   "display_name": "Python 3",
   "language": "python",
   "name": "python3"
  },
  "language_info": {
   "codemirror_mode": {
    "name": "ipython",
    "version": 3
   },
   "file_extension": ".py",
   "mimetype": "text/x-python",
   "name": "python",
   "nbconvert_exporter": "python",
   "pygments_lexer": "ipython3",
   "version": "3.8.5"
  }
 },
 "nbformat": 4,
 "nbformat_minor": 4
}
