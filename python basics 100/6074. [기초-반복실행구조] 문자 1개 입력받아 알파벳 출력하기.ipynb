{
 "cells": [
  {
   "cell_type": "markdown",
   "metadata": {},
   "source": [
    "영문 소문자(a ~ z) 1개가 입력되었을 때, a부터 그 문자까지의 알파벳을 순서대로 출력해보자.    \n",
    "  \n",
    "예시  \n",
    "c = ord(input())  \n",
    "t = ord('a')  \n",
    "while t<=c :  \n",
    "  print(chr(t), end=' ')  \n",
    "  t += 1  \n",
    "  \n",
    "참고  \n",
    "알파벳 문자 a의 정수값은 ord('a')로 알아낼 수 있다.  \n",
    "chr(정수값)을 이용하면 유니코드 문자로 출력할 수 있다.  \n",
    "print(..., end=' ') 와 같이 작성하면 값 출력 후 공백문자 ' '를 출력한다. 즉, 마지막에 줄을 바꾸지 않고 빈칸만 띄운다.   \n",
    "  \n",
    "(end='\\n'로 작성하거나 생략하면, 값을 출력한 후 마지막(end)에 줄바꿈(newline)이 된다.)  \n",
    "    \n",
    "* 입력 : 영문자 1개가 입력된다. (a ~ z) (ex. f)  \n",
    "* 출력 : a부터 입력한 문자까지 순서대로 공백을 두고 한 줄로 출력한다. (ex. a b c d e f)"
   ]
  },
  {
   "cell_type": "code",
   "execution_count": 4,
   "metadata": {},
   "outputs": [
    {
     "name": "stdout",
     "output_type": "stream",
     "text": [
      "f\n",
      "a b c d e f "
     ]
    }
   ],
   "source": [
    "c = input()\n",
    "for i in range(ord('a'), ord(c)+1): # range : 반복가능한 객체여야 함! (그냥 range('c') x!)\n",
    "    print(chr(i), end=' ')\n",
    "    \n",
    "# ord(문자) : 문자를 아스키코드 값으로 변환 (ord('a') == 97)\n",
    "# chr(아스키숫자) : 아스키코드 값을 문자로 변환 (chr(65) == 'A')"
   ]
  }
 ],
 "metadata": {
  "kernelspec": {
   "display_name": "Python 3",
   "language": "python",
   "name": "python3"
  },
  "language_info": {
   "codemirror_mode": {
    "name": "ipython",
    "version": 3
   },
   "file_extension": ".py",
   "mimetype": "text/x-python",
   "name": "python",
   "nbconvert_exporter": "python",
   "pygments_lexer": "ipython3",
   "version": "3.8.5"
  }
 },
 "nbformat": 4,
 "nbformat_minor": 4
}
