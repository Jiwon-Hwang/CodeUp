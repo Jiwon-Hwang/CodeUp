{
 "cells": [
  {
   "cell_type": "markdown",
   "metadata": {},
   "source": [
    "주민번호는 다음과 같이 구성된다.  \n",
    "XXXXXX-XXXXXXX  \n",
    "\n",
    "왼쪽 6자리는 생년월일(YYMMDD)이고, 오른쪽 7자리는 성별,출생지역,확인코드로 구성되어있다.  \n",
    "주민번호를 입력받아 형태를 바꿔 출력해보자.  \n",
    "    \n",
    "\n",
    "  \n",
    "* 입력 : 주민번호 앞 6자리와 뒷 7자리가 '-'로 구분되어 입력된다.(ex. 000907-1121112)\n",
    "* 출력 : '-'를 제외한 주민번호 13자리를 모두 붙여 출력한다. (ex. 0009071121112)  \n",
    "   "
   ]
  },
  {
   "cell_type": "markdown",
   "metadata": {},
   "source": [
    "### 특정 문자 제거 방법 3가지"
   ]
  },
  {
   "cell_type": "code",
   "execution_count": 1,
   "metadata": {},
   "outputs": [
    {
     "name": "stdout",
     "output_type": "stream",
     "text": [
      "000907-1121112\n",
      "0009071121112\n"
     ]
    }
   ],
   "source": [
    "# sol1\n",
    "num1, num2 = input().split('-') # split : 문자열을 특정 문자 기준으로 쪼개서 list로 변환\n",
    "print(num1, num2, sep='') # sep : 출력 시 특정 문자를 사이에 삽입해서 출력 (join과 비슷한 역할)"
   ]
  },
  {
   "cell_type": "code",
   "execution_count": 2,
   "metadata": {},
   "outputs": [
    {
     "name": "stdout",
     "output_type": "stream",
     "text": [
      "000907-1121112\n",
      "0009071121112\n"
     ]
    }
   ],
   "source": [
    "# sol2\n",
    "num = input()\n",
    "print(num.replace('-', '')) # replace : 첫번째 문자를 두번째 문자로 대체"
   ]
  },
  {
   "cell_type": "code",
   "execution_count": 3,
   "metadata": {},
   "outputs": [
    {
     "name": "stdout",
     "output_type": "stream",
     "text": [
      "000907-1121112\n",
      "num_list : ['000907', '1121112']\n",
      "0009071121112\n"
     ]
    }
   ],
   "source": [
    "# sol3\n",
    "num_list = input().split('-') # '구분자'.join(리스트)\n",
    "print('num_list :', num_list)\n",
    "print(''.join(num_list))"
   ]
  },
  {
   "cell_type": "code",
   "execution_count": 4,
   "metadata": {},
   "outputs": [
    {
     "name": "stdout",
     "output_type": "stream",
     "text": [
      "000907-1121112\n",
      "0009071121112\n"
     ]
    }
   ],
   "source": [
    "# sol4\n",
    "num1, num2 = input().split('-')\n",
    "print(num1 + num2) # 문자열 이어붙이기"
   ]
  }
 ],
 "metadata": {
  "kernelspec": {
   "display_name": "Python 3",
   "language": "python",
   "name": "python3"
  },
  "language_info": {
   "codemirror_mode": {
    "name": "ipython",
    "version": 3
   },
   "file_extension": ".py",
   "mimetype": "text/x-python",
   "name": "python",
   "nbconvert_exporter": "python",
   "pygments_lexer": "ipython3",
   "version": "3.8.5"
  }
 },
 "nbformat": 4,
 "nbformat_minor": 4
}
